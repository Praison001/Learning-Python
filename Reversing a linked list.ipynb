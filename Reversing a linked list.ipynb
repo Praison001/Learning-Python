{
 "cells": [
  {
   "cell_type": "code",
   "execution_count": 2,
   "metadata": {},
   "outputs": [],
   "source": [
    "#VideoReferenceLink: https://www.youtube.com/watch?v=XDO6I8jxHtA\n",
    "#Reversing a linked list \n",
    "class linkedList:\n",
    "    def __init__(self,x):\n",
    "        self.val=x\n",
    "        self.next=None\n",
    "class Solution:\n",
    "    def reversing(self,head):\n",
    "        prev=None\n",
    "        while head:\n",
    "            temp=head\n",
    "            head=head.next\n",
    "            temp.next=prev\n",
    "            prev=temp\n",
    "        return prev"
   ]
  },
  {
   "cell_type": "code",
   "execution_count": null,
   "metadata": {},
   "outputs": [],
   "source": []
  }
 ],
 "metadata": {
  "kernelspec": {
   "display_name": "Python 3",
   "language": "python",
   "name": "python3"
  },
  "language_info": {
   "codemirror_mode": {
    "name": "ipython",
    "version": 3
   },
   "file_extension": ".py",
   "mimetype": "text/x-python",
   "name": "python",
   "nbconvert_exporter": "python",
   "pygments_lexer": "ipython3",
   "version": "3.7.4"
  }
 },
 "nbformat": 4,
 "nbformat_minor": 2
}
